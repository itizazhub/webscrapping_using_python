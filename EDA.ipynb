{
 "cells": [
  {
   "cell_type": "code",
   "execution_count": 134,
   "metadata": {},
   "outputs": [],
   "source": [
    "import pandas as pd\n",
    "import matplotlib.pyplot as plt\n",
    "import os"
   ]
  },
  {
   "cell_type": "code",
   "execution_count": 135,
   "metadata": {},
   "outputs": [],
   "source": [
    "df = pd.read_csv('dataset.csv')"
   ]
  },
  {
   "cell_type": "code",
   "execution_count": 136,
   "metadata": {},
   "outputs": [
    {
     "data": {
      "text/html": [
       "<div>\n",
       "<style scoped>\n",
       "    .dataframe tbody tr th:only-of-type {\n",
       "        vertical-align: middle;\n",
       "    }\n",
       "\n",
       "    .dataframe tbody tr th {\n",
       "        vertical-align: top;\n",
       "    }\n",
       "\n",
       "    .dataframe thead th {\n",
       "        text-align: right;\n",
       "    }\n",
       "</style>\n",
       "<table border=\"1\" class=\"dataframe\">\n",
       "  <thead>\n",
       "    <tr style=\"text-align: right;\">\n",
       "      <th></th>\n",
       "      <th>Product_id</th>\n",
       "      <th>Product_Name</th>\n",
       "      <th>Category</th>\n",
       "      <th>Price</th>\n",
       "      <th>Image_link</th>\n",
       "      <th>Product_link</th>\n",
       "    </tr>\n",
       "  </thead>\n",
       "  <tbody>\n",
       "    <tr>\n",
       "      <th>0</th>\n",
       "      <td>1</td>\n",
       "      <td>Rush US-EX-3204</td>\n",
       "      <td>sport-shoes</td>\n",
       "      <td>Rs.13,499</td>\n",
       "      <td>https://www.urbansole.com.pk/cdn/shop/files/US...</td>\n",
       "      <td>https://www.urbansole.com.pk/collections/sport...</td>\n",
       "    </tr>\n",
       "    <tr>\n",
       "      <th>1</th>\n",
       "      <td>2</td>\n",
       "      <td>Raptor US-EX-3206</td>\n",
       "      <td>sport-shoes</td>\n",
       "      <td>Rs.16,999</td>\n",
       "      <td>https://www.urbansole.com.pk/cdn/shop/files/US...</td>\n",
       "      <td>https://www.urbansole.com.pk/collections/sport...</td>\n",
       "    </tr>\n",
       "    <tr>\n",
       "      <th>2</th>\n",
       "      <td>3</td>\n",
       "      <td>MEN'S SPORTS SHOES US-EX-3203</td>\n",
       "      <td>sport-shoes</td>\n",
       "      <td>Rs.13,999</td>\n",
       "      <td>https://www.urbansole.com.pk/cdn/shop/files/US...</td>\n",
       "      <td>https://www.urbansole.com.pk/collections/sport...</td>\n",
       "    </tr>\n",
       "    <tr>\n",
       "      <th>3</th>\n",
       "      <td>4</td>\n",
       "      <td>Pulse US-EX-3210</td>\n",
       "      <td>sport-shoes</td>\n",
       "      <td>Current price\\n\\nRs.9,799</td>\n",
       "      <td>https://www.urbansole.com.pk/cdn/shop/files/US...</td>\n",
       "      <td>https://www.urbansole.com.pk/collections/sport...</td>\n",
       "    </tr>\n",
       "    <tr>\n",
       "      <th>4</th>\n",
       "      <td>5</td>\n",
       "      <td>Fury US-EX-3208</td>\n",
       "      <td>sport-shoes</td>\n",
       "      <td>Rs.13,999</td>\n",
       "      <td>https://www.urbansole.com.pk/cdn/shop/files/US...</td>\n",
       "      <td>https://www.urbansole.com.pk/collections/sport...</td>\n",
       "    </tr>\n",
       "  </tbody>\n",
       "</table>\n",
       "</div>"
      ],
      "text/plain": [
       "   Product_id                   Product_Name     Category  \\\n",
       "0           1                Rush US-EX-3204  sport-shoes   \n",
       "1           2              Raptor US-EX-3206  sport-shoes   \n",
       "2           3  MEN'S SPORTS SHOES US-EX-3203  sport-shoes   \n",
       "3           4               Pulse US-EX-3210  sport-shoes   \n",
       "4           5                Fury US-EX-3208  sport-shoes   \n",
       "\n",
       "                       Price  \\\n",
       "0                  Rs.13,499   \n",
       "1                  Rs.16,999   \n",
       "2                  Rs.13,999   \n",
       "3  Current price\\n\\nRs.9,799   \n",
       "4                  Rs.13,999   \n",
       "\n",
       "                                          Image_link  \\\n",
       "0  https://www.urbansole.com.pk/cdn/shop/files/US...   \n",
       "1  https://www.urbansole.com.pk/cdn/shop/files/US...   \n",
       "2  https://www.urbansole.com.pk/cdn/shop/files/US...   \n",
       "3  https://www.urbansole.com.pk/cdn/shop/files/US...   \n",
       "4  https://www.urbansole.com.pk/cdn/shop/files/US...   \n",
       "\n",
       "                                        Product_link  \n",
       "0  https://www.urbansole.com.pk/collections/sport...  \n",
       "1  https://www.urbansole.com.pk/collections/sport...  \n",
       "2  https://www.urbansole.com.pk/collections/sport...  \n",
       "3  https://www.urbansole.com.pk/collections/sport...  \n",
       "4  https://www.urbansole.com.pk/collections/sport...  "
      ]
     },
     "execution_count": 136,
     "metadata": {},
     "output_type": "execute_result"
    }
   ],
   "source": [
    "df.head()\t"
   ]
  },
  {
   "cell_type": "code",
   "execution_count": 137,
   "metadata": {},
   "outputs": [
    {
     "data": {
      "text/plain": [
       "'https://www.urbansole.com.pk/cdn/shop/files/US-EX-3206Black_700x700.jpg?v=1704719244'"
      ]
     },
     "execution_count": 137,
     "metadata": {},
     "output_type": "execute_result"
    }
   ],
   "source": [
    "df['Image_link'].iloc[1]"
   ]
  },
  {
   "cell_type": "code",
   "execution_count": 139,
   "metadata": {},
   "outputs": [],
   "source": [
    "df['Product_id'] = df['Product_id'].astype(str)"
   ]
  },
  {
   "cell_type": "code",
   "execution_count": 140,
   "metadata": {},
   "outputs": [
    {
     "name": "stdout",
     "output_type": "stream",
     "text": [
      "<class 'pandas.core.frame.DataFrame'>\n",
      "RangeIndex: 340 entries, 0 to 339\n",
      "Data columns (total 6 columns):\n",
      " #   Column        Non-Null Count  Dtype \n",
      "---  ------        --------------  ----- \n",
      " 0   Product_id    340 non-null    object\n",
      " 1   Product_Name  340 non-null    object\n",
      " 2   Category      340 non-null    object\n",
      " 3   Price         340 non-null    object\n",
      " 4   Image_link    340 non-null    object\n",
      " 5   Product_link  340 non-null    object\n",
      "dtypes: object(6)\n",
      "memory usage: 16.1+ KB\n"
     ]
    }
   ],
   "source": [
    "df.info()"
   ]
  },
  {
   "cell_type": "code",
   "execution_count": 141,
   "metadata": {},
   "outputs": [],
   "source": [
    "df1 = pd.DataFrame({})\n",
    "df1=df.copy()"
   ]
  },
  {
   "cell_type": "code",
   "execution_count": 142,
   "metadata": {},
   "outputs": [
    {
     "data": {
      "text/plain": [
       "array(['Rs.13,499', 'Rs.16,999', 'Rs.13,999', 'Current price\\n\\nRs.9,799',\n",
       "       'Rs.14,999', 'Current price\\n\\nRs.15,599',\n",
       "       'Current price\\n\\nRs.13,199', 'Current price\\n\\nRs.15,999',\n",
       "       'Current price\\n\\nRs.14,399', 'Rs.15,999',\n",
       "       'Current price\\n\\nRs.15,199', 'Current price\\n\\nRs.14,799',\n",
       "       'Rs.12,999', 'Rs.11,999', 'Rs.8,499', 'Current price\\n\\nRs.5,949',\n",
       "       'Rs.9,999', 'Current price\\n\\nRs.4,199', 'Rs.4,999', 'Rs.5,499',\n",
       "       'Current price\\n\\nRs.3,849', 'Rs.7,999', 'Rs.29,999', 'Rs.9,499',\n",
       "       'Rs.6,999', 'Current price\\n\\nRs.5,249',\n",
       "       'Current price\\n\\nRs.6,999', 'Rs.6,195', 'Rs.8,195',\n",
       "       'Current price\\n\\nRs.5,737', 'Current price\\n\\nRs.3,289',\n",
       "       'Current price\\n\\nRs.3,639', 'Current price\\n\\nRs.4,339',\n",
       "       'Rs.5,899', 'Rs.6,399', 'Current price\\n\\nRs.3,287', 'Rs.6,199',\n",
       "       'Current price\\n\\nRs.3,948', 'Current price\\n\\nRs.2,800',\n",
       "       'Current price\\n\\nRs.5,179', 'Rs.7,399', 'Rs.2,399',\n",
       "       'Current price\\n\\nRs.6,507', 'Current price\\n\\nRs.5,529',\n",
       "       'Rs.10,995', 'Current price\\n\\nRs.3,637', 'Rs.6,799', 'Rs.5,895',\n",
       "       'Rs.6,595', 'Rs.1,999', 'Rs.2,199', 'Current price\\n\\nRs.3,079',\n",
       "       'Current price\\n\\nRs.3,429', 'Rs.5,299', 'Rs.5,395',\n",
       "       'Current price\\n\\nRs.4,197', 'Rs.5,995',\n",
       "       'Current price\\n\\nRs.3,989', 'Rs.5,699',\n",
       "       'Current price\\n\\nRs.7,699', 'Current price\\n\\nRs.4,549',\n",
       "       'Current price\\n\\nRs.11,197', 'Current price\\n\\nRs.9,797',\n",
       "       'Current price\\n\\nRs.8,397', 'Current price\\n\\nRs.6,000',\n",
       "       'Current price\\n\\nRs.6,647', 'Current price\\n\\nRs.5,039',\n",
       "       'Current price\\n\\nRs.4,337', 'Rs.9,495', 'Rs.6,499', 'Rs.6,395',\n",
       "       'Current price\\n\\nRs.4,127', 'Current price\\n\\nRs.4,617',\n",
       "       'Rs.6,495', 'Current price\\n\\nRs.3,499', 'Rs.5,599', 'Rs.5,999',\n",
       "       'Current price\\n\\nRs.3,917', 'Current price\\n\\nRs.5,947',\n",
       "       'Rs.8,495', 'Current price\\n\\nRs.7,209',\n",
       "       'Current price\\n\\nRs.4,098', 'Rs.6,995',\n",
       "       'Current price\\n\\nRs.4,829', 'Rs.5,199', 'Rs.7,395', 'Rs.7,899',\n",
       "       'Rs.1,699', 'Current price\\n\\nRs.2,799',\n",
       "       'Current price\\n\\nRs.2,449', 'Current price\\n\\nRs.2,350',\n",
       "       'Rs.4,899', 'Current price\\n\\nRs.2,100',\n",
       "       'Current price\\n\\nRs.1,550', 'Current price\\n\\nRs.1,650',\n",
       "       'Current price\\n\\nRs.1,448', 'Current price\\n\\nRs.1,698',\n",
       "       'Current price\\n\\nRs.1,498', 'Current price\\n\\nRs.1,848',\n",
       "       'Current price\\n\\nRs.1,598', 'Current price\\n\\nRs.1,750',\n",
       "       'Rs.2,499', 'Rs.2,999', 'Rs.2,299', 'Rs.1,499', 'Rs.199', 'Rs.249',\n",
       "       'Rs.349', 'Rs.499', 'Rs.999', 'Rs.1,249',\n",
       "       'Current price\\n\\nRs.1,399', 'Current price\\n\\nRs.1,259', 'Rs.299',\n",
       "       'Rs.399'], dtype=object)"
      ]
     },
     "execution_count": 142,
     "metadata": {},
     "output_type": "execute_result"
    }
   ],
   "source": [
    "df1['Price'].unique()"
   ]
  },
  {
   "cell_type": "code",
   "execution_count": 143,
   "metadata": {},
   "outputs": [],
   "source": [
    "df1['Price'] = df1[\"Price\"].apply(\n",
    "    lambda x: x.replace(\"\\n\\n\", ' ').split(' ')[-1]\n",
    ")"
   ]
  },
  {
   "cell_type": "code",
   "execution_count": 144,
   "metadata": {},
   "outputs": [],
   "source": [
    "df1['Price'] = df1[\"Price\"].apply(\n",
    "    lambda x: int(x.replace(\"Rs.\", \"\").replace(',',''))\n",
    ")"
   ]
  },
  {
   "cell_type": "code",
   "execution_count": 145,
   "metadata": {},
   "outputs": [
    {
     "data": {
      "text/plain": [
       "array([13499, 16999, 13999,  9799, 14999, 15599, 13199, 15999, 14399,\n",
       "       15199, 14799, 12999, 11999,  8499,  5949,  9999,  4199,  4999,\n",
       "        5499,  3849,  7999, 29999,  9499,  6999,  5249,  6195,  8195,\n",
       "        5737,  3289,  3639,  4339,  5899,  6399,  3287,  6199,  3948,\n",
       "        2800,  5179,  7399,  2399,  6507,  5529, 10995,  3637,  6799,\n",
       "        5895,  6595,  1999,  2199,  3079,  3429,  5299,  5395,  4197,\n",
       "        5995,  3989,  5699,  7699,  4549, 11197,  9797,  8397,  6000,\n",
       "        6647,  5039,  4337,  9495,  6499,  6395,  4127,  4617,  6495,\n",
       "        3499,  5599,  5999,  3917,  5947,  8495,  7209,  4098,  6995,\n",
       "        4829,  5199,  7395,  7899,  1699,  2799,  2449,  2350,  4899,\n",
       "        2100,  1550,  1650,  1448,  1698,  1498,  1848,  1598,  1750,\n",
       "        2499,  2999,  2299,  1499,   199,   249,   349,   499,   999,\n",
       "        1249,  1399,  1259,   299,   399], dtype=int64)"
      ]
     },
     "execution_count": 145,
     "metadata": {},
     "output_type": "execute_result"
    }
   ],
   "source": [
    "df1['Price'].unique()"
   ]
  },
  {
   "cell_type": "code",
   "execution_count": 146,
   "metadata": {},
   "outputs": [
    {
     "data": {
      "text/html": [
       "<div>\n",
       "<style scoped>\n",
       "    .dataframe tbody tr th:only-of-type {\n",
       "        vertical-align: middle;\n",
       "    }\n",
       "\n",
       "    .dataframe tbody tr th {\n",
       "        vertical-align: top;\n",
       "    }\n",
       "\n",
       "    .dataframe thead th {\n",
       "        text-align: right;\n",
       "    }\n",
       "</style>\n",
       "<table border=\"1\" class=\"dataframe\">\n",
       "  <thead>\n",
       "    <tr style=\"text-align: right;\">\n",
       "      <th></th>\n",
       "      <th>Product_id</th>\n",
       "      <th>Product_Name</th>\n",
       "      <th>Category</th>\n",
       "      <th>Price</th>\n",
       "      <th>Image_link</th>\n",
       "      <th>Product_link</th>\n",
       "    </tr>\n",
       "  </thead>\n",
       "  <tbody>\n",
       "    <tr>\n",
       "      <th>0</th>\n",
       "      <td>1</td>\n",
       "      <td>Rush US-EX-3204</td>\n",
       "      <td>sport-shoes</td>\n",
       "      <td>13499</td>\n",
       "      <td>https://www.urbansole.com.pk/cdn/shop/files/US...</td>\n",
       "      <td>https://www.urbansole.com.pk/collections/sport...</td>\n",
       "    </tr>\n",
       "    <tr>\n",
       "      <th>1</th>\n",
       "      <td>2</td>\n",
       "      <td>Raptor US-EX-3206</td>\n",
       "      <td>sport-shoes</td>\n",
       "      <td>16999</td>\n",
       "      <td>https://www.urbansole.com.pk/cdn/shop/files/US...</td>\n",
       "      <td>https://www.urbansole.com.pk/collections/sport...</td>\n",
       "    </tr>\n",
       "    <tr>\n",
       "      <th>2</th>\n",
       "      <td>3</td>\n",
       "      <td>MEN'S SPORTS SHOES US-EX-3203</td>\n",
       "      <td>sport-shoes</td>\n",
       "      <td>13999</td>\n",
       "      <td>https://www.urbansole.com.pk/cdn/shop/files/US...</td>\n",
       "      <td>https://www.urbansole.com.pk/collections/sport...</td>\n",
       "    </tr>\n",
       "    <tr>\n",
       "      <th>3</th>\n",
       "      <td>4</td>\n",
       "      <td>Pulse US-EX-3210</td>\n",
       "      <td>sport-shoes</td>\n",
       "      <td>9799</td>\n",
       "      <td>https://www.urbansole.com.pk/cdn/shop/files/US...</td>\n",
       "      <td>https://www.urbansole.com.pk/collections/sport...</td>\n",
       "    </tr>\n",
       "    <tr>\n",
       "      <th>4</th>\n",
       "      <td>5</td>\n",
       "      <td>Fury US-EX-3208</td>\n",
       "      <td>sport-shoes</td>\n",
       "      <td>13999</td>\n",
       "      <td>https://www.urbansole.com.pk/cdn/shop/files/US...</td>\n",
       "      <td>https://www.urbansole.com.pk/collections/sport...</td>\n",
       "    </tr>\n",
       "  </tbody>\n",
       "</table>\n",
       "</div>"
      ],
      "text/plain": [
       "  Product_id                   Product_Name     Category  Price  \\\n",
       "0          1                Rush US-EX-3204  sport-shoes  13499   \n",
       "1          2              Raptor US-EX-3206  sport-shoes  16999   \n",
       "2          3  MEN'S SPORTS SHOES US-EX-3203  sport-shoes  13999   \n",
       "3          4               Pulse US-EX-3210  sport-shoes   9799   \n",
       "4          5                Fury US-EX-3208  sport-shoes  13999   \n",
       "\n",
       "                                          Image_link  \\\n",
       "0  https://www.urbansole.com.pk/cdn/shop/files/US...   \n",
       "1  https://www.urbansole.com.pk/cdn/shop/files/US...   \n",
       "2  https://www.urbansole.com.pk/cdn/shop/files/US...   \n",
       "3  https://www.urbansole.com.pk/cdn/shop/files/US...   \n",
       "4  https://www.urbansole.com.pk/cdn/shop/files/US...   \n",
       "\n",
       "                                        Product_link  \n",
       "0  https://www.urbansole.com.pk/collections/sport...  \n",
       "1  https://www.urbansole.com.pk/collections/sport...  \n",
       "2  https://www.urbansole.com.pk/collections/sport...  \n",
       "3  https://www.urbansole.com.pk/collections/sport...  \n",
       "4  https://www.urbansole.com.pk/collections/sport...  "
      ]
     },
     "execution_count": 146,
     "metadata": {},
     "output_type": "execute_result"
    }
   ],
   "source": [
    "df1.head()"
   ]
  },
  {
   "cell_type": "code",
   "execution_count": 147,
   "metadata": {},
   "outputs": [
    {
     "data": {
      "text/plain": [
       "<matplotlib.axes._subplots.AxesSubplot at 0x26f092f98d0>"
      ]
     },
     "execution_count": 147,
     "metadata": {},
     "output_type": "execute_result"
    },
    {
     "data": {
      "image/png": "[encoded data removed]",
      "text/plain": [
       "<Figure size 432x288 with 1 Axes>"
      ]
     },
     "metadata": {
      "needs_background": "light"
     },
     "output_type": "display_data"
    }
   ],
   "source": [
    "df1['Category'].value_counts().plot(kind='bar')"
   ]
  },
  {
   "cell_type": "code",
   "execution_count": 148,
   "metadata": {},
   "outputs": [
    {
     "data": {
      "text/plain": [
       "288"
      ]
     },
     "execution_count": 148,
     "metadata": {},
     "output_type": "execute_result"
    }
   ],
   "source": [
    "len(df['Product_Name'].unique())"
   ]
  },
  {
   "cell_type": "code",
   "execution_count": 149,
   "metadata": {},
   "outputs": [
    {
     "name": "stdout",
     "output_type": "stream",
     "text": [
      "Orignal length:  340\n",
      "number of duplicates:  0\n"
     ]
    },
    {
     "data": {
      "text/html": [
       "<div>\n",
       "<style scoped>\n",
       "    .dataframe tbody tr th:only-of-type {\n",
       "        vertical-align: middle;\n",
       "    }\n",
       "\n",
       "    .dataframe tbody tr th {\n",
       "        vertical-align: top;\n",
       "    }\n",
       "\n",
       "    .dataframe thead th {\n",
       "        text-align: right;\n",
       "    }\n",
       "</style>\n",
       "<table border=\"1\" class=\"dataframe\">\n",
       "  <thead>\n",
       "    <tr style=\"text-align: right;\">\n",
       "      <th></th>\n",
       "      <th>concate</th>\n",
       "    </tr>\n",
       "  </thead>\n",
       "  <tbody>\n",
       "  </tbody>\n",
       "</table>\n",
       "</div>"
      ],
      "text/plain": [
       "Empty DataFrame\n",
       "Columns: [concate]\n",
       "Index: []"
      ]
     },
     "execution_count": 149,
     "metadata": {},
     "output_type": "execute_result"
    }
   ],
   "source": [
    "duplicates_test = pd.DataFrame({'concate':[]})\n",
    "duplicates_test['concate']=df1['Product_id'] + df1['Product_Name'] + df1['Category']\n",
    "duplicates = duplicates_test.duplicated(subset=['concate'], keep=False)\n",
    "print(\"Orignal length: \", len(df1))\n",
    "print(\"number of duplicates: \",duplicates.sum())\n",
    "duplicates_test[duplicates].sort_values(by='concate',ascending=True)\n"
   ]
  },
  {
   "cell_type": "code",
   "execution_count": 150,
   "metadata": {},
   "outputs": [],
   "source": [
    "df1.drop_duplicates(subset=['Product_id','Product_Name','Category'], inplace=True)"
   ]
  },
  {
   "cell_type": "code",
   "execution_count": 152,
   "metadata": {},
   "outputs": [
    {
     "name": "stdout",
     "output_type": "stream",
     "text": [
      "Orignal length:  340\n",
      "number of duplicates:  0\n"
     ]
    },
    {
     "data": {
      "text/html": [
       "<div>\n",
       "<style scoped>\n",
       "    .dataframe tbody tr th:only-of-type {\n",
       "        vertical-align: middle;\n",
       "    }\n",
       "\n",
       "    .dataframe tbody tr th {\n",
       "        vertical-align: top;\n",
       "    }\n",
       "\n",
       "    .dataframe thead th {\n",
       "        text-align: right;\n",
       "    }\n",
       "</style>\n",
       "<table border=\"1\" class=\"dataframe\">\n",
       "  <thead>\n",
       "    <tr style=\"text-align: right;\">\n",
       "      <th></th>\n",
       "      <th>concate</th>\n",
       "    </tr>\n",
       "  </thead>\n",
       "  <tbody>\n",
       "  </tbody>\n",
       "</table>\n",
       "</div>"
      ],
      "text/plain": [
       "Empty DataFrame\n",
       "Columns: [concate]\n",
       "Index: []"
      ]
     },
     "execution_count": 152,
     "metadata": {},
     "output_type": "execute_result"
    }
   ],
   "source": [
    "duplicates_test = pd.DataFrame({'concate':[]})\n",
    "duplicates_test['concate']=df1['Product_id'] + df1['Product_Name'] + df1['Category']\n",
    "duplicates = duplicates_test.duplicated(subset=['concate'], keep=False)\n",
    "print(\"Orignal length: \", len(df1))\n",
    "print(\"number of duplicates: \",duplicates.sum())\n",
    "duplicates_test[duplicates].sort_values(by='concate',ascending=True)"
   ]
  },
  {
   "cell_type": "code",
   "execution_count": 153,
   "metadata": {},
   "outputs": [],
   "source": [
    "df1.to_csv('cleaned_dataset_new.csv', index=False)"
   ]
  },
  {
   "cell_type": "code",
   "execution_count": null,
   "metadata": {},
   "outputs": [],
   "source": []
  },
  {
   "cell_type": "code",
   "execution_count": null,
   "metadata": {},
   "outputs": [],
   "source": []
  },
  {
   "cell_type": "code",
   "execution_count": null,
   "metadata": {},
   "outputs": [],
   "source": [
    "df1['Category'] = df1[\"Name\"].apply(\n",
    "    lambda x: ' '.join(x.split(' ')[:-1])\n",
    ")"
   ]
  },
  {
   "cell_type": "code",
   "execution_count": null,
   "metadata": {},
   "outputs": [],
   "source": [
    "df1['Product'] = df1[\"Name\"].apply(\n",
    "    lambda x: x.split(' ')[-1]\n",
    ")"
   ]
  },
  {
   "cell_type": "code",
   "execution_count": null,
   "metadata": {},
   "outputs": [],
   "source": [
    "df1['Category'].value_counts()[:13].plot.bar(figsize=(10,3))"
   ]
  },
  {
   "cell_type": "code",
   "execution_count": null,
   "metadata": {},
   "outputs": [],
   "source": [
    "df1.groupby('Category').size().sort_values(ascending=False)[:12]"
   ]
  }
 ],
 "metadata": {
  "kernelspec": {
   "display_name": "deeplearning",
   "language": "python",
   "name": "python3"
  },
  "language_info": {
   "codemirror_mode": {
    "name": "ipython",
    "version": 3
   },
   "file_extension": ".py",
   "mimetype": "text/x-python",
   "name": "python",
   "nbconvert_exporter": "python",
   "pygments_lexer": "ipython3",
   "version": "3.6.10"
  }
 },
 "nbformat": 4,
 "nbformat_minor": 2
}
